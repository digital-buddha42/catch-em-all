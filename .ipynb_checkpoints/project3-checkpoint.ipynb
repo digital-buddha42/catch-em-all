{
 "cells": [
  {
   "cell_type": "code",
   "execution_count": 1,
   "metadata": {},
   "outputs": [],
   "source": [
    "# Dependencies\n",
    "import requests\n",
    "import json"
   ]
  },
  {
   "cell_type": "code",
   "execution_count": 2,
   "metadata": {},
   "outputs": [],
   "source": [
    "# URL for GET requests to retrieve vehicle data\n",
    "url = \"https://pokeapi.co/api/v2/\""
   ]
  },
  {
   "cell_type": "code",
   "execution_count": 3,
   "metadata": {},
   "outputs": [
    {
     "name": "stdout",
     "output_type": "stream",
     "text": [
      "<Response [200]>\n"
     ]
    }
   ],
   "source": [
    "# Print the response object to the console\n",
    "print(requests.get(url))"
   ]
  },
  {
   "cell_type": "code",
   "execution_count": 4,
   "metadata": {},
   "outputs": [
    {
     "name": "stdout",
     "output_type": "stream",
     "text": [
      "{'ability': 'https://pokeapi.co/api/v2/ability/', 'berry': 'https://pokeapi.co/api/v2/berry/', 'berry-firmness': 'https://pokeapi.co/api/v2/berry-firmness/', 'berry-flavor': 'https://pokeapi.co/api/v2/berry-flavor/', 'characteristic': 'https://pokeapi.co/api/v2/characteristic/', 'contest-effect': 'https://pokeapi.co/api/v2/contest-effect/', 'contest-type': 'https://pokeapi.co/api/v2/contest-type/', 'egg-group': 'https://pokeapi.co/api/v2/egg-group/', 'encounter-condition': 'https://pokeapi.co/api/v2/encounter-condition/', 'encounter-condition-value': 'https://pokeapi.co/api/v2/encounter-condition-value/', 'encounter-method': 'https://pokeapi.co/api/v2/encounter-method/', 'evolution-chain': 'https://pokeapi.co/api/v2/evolution-chain/', 'evolution-trigger': 'https://pokeapi.co/api/v2/evolution-trigger/', 'gender': 'https://pokeapi.co/api/v2/gender/', 'generation': 'https://pokeapi.co/api/v2/generation/', 'growth-rate': 'https://pokeapi.co/api/v2/growth-rate/', 'item': 'https://pokeapi.co/api/v2/item/', 'item-attribute': 'https://pokeapi.co/api/v2/item-attribute/', 'item-category': 'https://pokeapi.co/api/v2/item-category/', 'item-fling-effect': 'https://pokeapi.co/api/v2/item-fling-effect/', 'item-pocket': 'https://pokeapi.co/api/v2/item-pocket/', 'language': 'https://pokeapi.co/api/v2/language/', 'location': 'https://pokeapi.co/api/v2/location/', 'location-area': 'https://pokeapi.co/api/v2/location-area/', 'machine': 'https://pokeapi.co/api/v2/machine/', 'move': 'https://pokeapi.co/api/v2/move/', 'move-ailment': 'https://pokeapi.co/api/v2/move-ailment/', 'move-battle-style': 'https://pokeapi.co/api/v2/move-battle-style/', 'move-category': 'https://pokeapi.co/api/v2/move-category/', 'move-damage-class': 'https://pokeapi.co/api/v2/move-damage-class/', 'move-learn-method': 'https://pokeapi.co/api/v2/move-learn-method/', 'move-target': 'https://pokeapi.co/api/v2/move-target/', 'nature': 'https://pokeapi.co/api/v2/nature/', 'pal-park-area': 'https://pokeapi.co/api/v2/pal-park-area/', 'pokeathlon-stat': 'https://pokeapi.co/api/v2/pokeathlon-stat/', 'pokedex': 'https://pokeapi.co/api/v2/pokedex/', 'pokemon': 'https://pokeapi.co/api/v2/pokemon/', 'pokemon-color': 'https://pokeapi.co/api/v2/pokemon-color/', 'pokemon-form': 'https://pokeapi.co/api/v2/pokemon-form/', 'pokemon-habitat': 'https://pokeapi.co/api/v2/pokemon-habitat/', 'pokemon-shape': 'https://pokeapi.co/api/v2/pokemon-shape/', 'pokemon-species': 'https://pokeapi.co/api/v2/pokemon-species/', 'region': 'https://pokeapi.co/api/v2/region/', 'stat': 'https://pokeapi.co/api/v2/stat/', 'super-contest-effect': 'https://pokeapi.co/api/v2/super-contest-effect/', 'type': 'https://pokeapi.co/api/v2/type/', 'version': 'https://pokeapi.co/api/v2/version/', 'version-group': 'https://pokeapi.co/api/v2/version-group/'}\n"
     ]
    }
   ],
   "source": [
    "# Retrieving data and converting it into JSON\n",
    "print(requests.get(url).json())"
   ]
  },
  {
   "cell_type": "code",
   "execution_count": 5,
   "metadata": {},
   "outputs": [
    {
     "name": "stdout",
     "output_type": "stream",
     "text": [
      "{\n",
      "    \"ability\": \"https://pokeapi.co/api/v2/ability/\",\n",
      "    \"berry\": \"https://pokeapi.co/api/v2/berry/\",\n",
      "    \"berry-firmness\": \"https://pokeapi.co/api/v2/berry-firmness/\",\n",
      "    \"berry-flavor\": \"https://pokeapi.co/api/v2/berry-flavor/\",\n",
      "    \"characteristic\": \"https://pokeapi.co/api/v2/characteristic/\",\n",
      "    \"contest-effect\": \"https://pokeapi.co/api/v2/contest-effect/\",\n",
      "    \"contest-type\": \"https://pokeapi.co/api/v2/contest-type/\",\n",
      "    \"egg-group\": \"https://pokeapi.co/api/v2/egg-group/\",\n",
      "    \"encounter-condition\": \"https://pokeapi.co/api/v2/encounter-condition/\",\n",
      "    \"encounter-condition-value\": \"https://pokeapi.co/api/v2/encounter-condition-value/\",\n",
      "    \"encounter-method\": \"https://pokeapi.co/api/v2/encounter-method/\",\n",
      "    \"evolution-chain\": \"https://pokeapi.co/api/v2/evolution-chain/\",\n",
      "    \"evolution-trigger\": \"https://pokeapi.co/api/v2/evolution-trigger/\",\n",
      "    \"gender\": \"https://pokeapi.co/api/v2/gender/\",\n",
      "    \"generation\": \"https://pokeapi.co/api/v2/generation/\",\n",
      "    \"growth-rate\": \"https://pokeapi.co/api/v2/growth-rate/\",\n",
      "    \"item\": \"https://pokeapi.co/api/v2/item/\",\n",
      "    \"item-attribute\": \"https://pokeapi.co/api/v2/item-attribute/\",\n",
      "    \"item-category\": \"https://pokeapi.co/api/v2/item-category/\",\n",
      "    \"item-fling-effect\": \"https://pokeapi.co/api/v2/item-fling-effect/\",\n",
      "    \"item-pocket\": \"https://pokeapi.co/api/v2/item-pocket/\",\n",
      "    \"language\": \"https://pokeapi.co/api/v2/language/\",\n",
      "    \"location\": \"https://pokeapi.co/api/v2/location/\",\n",
      "    \"location-area\": \"https://pokeapi.co/api/v2/location-area/\",\n",
      "    \"machine\": \"https://pokeapi.co/api/v2/machine/\",\n",
      "    \"move\": \"https://pokeapi.co/api/v2/move/\",\n",
      "    \"move-ailment\": \"https://pokeapi.co/api/v2/move-ailment/\",\n",
      "    \"move-battle-style\": \"https://pokeapi.co/api/v2/move-battle-style/\",\n",
      "    \"move-category\": \"https://pokeapi.co/api/v2/move-category/\",\n",
      "    \"move-damage-class\": \"https://pokeapi.co/api/v2/move-damage-class/\",\n",
      "    \"move-learn-method\": \"https://pokeapi.co/api/v2/move-learn-method/\",\n",
      "    \"move-target\": \"https://pokeapi.co/api/v2/move-target/\",\n",
      "    \"nature\": \"https://pokeapi.co/api/v2/nature/\",\n",
      "    \"pal-park-area\": \"https://pokeapi.co/api/v2/pal-park-area/\",\n",
      "    \"pokeathlon-stat\": \"https://pokeapi.co/api/v2/pokeathlon-stat/\",\n",
      "    \"pokedex\": \"https://pokeapi.co/api/v2/pokedex/\",\n",
      "    \"pokemon\": \"https://pokeapi.co/api/v2/pokemon/\",\n",
      "    \"pokemon-color\": \"https://pokeapi.co/api/v2/pokemon-color/\",\n",
      "    \"pokemon-form\": \"https://pokeapi.co/api/v2/pokemon-form/\",\n",
      "    \"pokemon-habitat\": \"https://pokeapi.co/api/v2/pokemon-habitat/\",\n",
      "    \"pokemon-shape\": \"https://pokeapi.co/api/v2/pokemon-shape/\",\n",
      "    \"pokemon-species\": \"https://pokeapi.co/api/v2/pokemon-species/\",\n",
      "    \"region\": \"https://pokeapi.co/api/v2/region/\",\n",
      "    \"stat\": \"https://pokeapi.co/api/v2/stat/\",\n",
      "    \"super-contest-effect\": \"https://pokeapi.co/api/v2/super-contest-effect/\",\n",
      "    \"type\": \"https://pokeapi.co/api/v2/type/\",\n",
      "    \"version\": \"https://pokeapi.co/api/v2/version/\",\n",
      "    \"version-group\": \"https://pokeapi.co/api/v2/version-group/\"\n",
      "}\n"
     ]
    }
   ],
   "source": [
    "# Pretty Print the output of the JSON\n",
    "response = requests.get(url).json()\n",
    "print(json.dumps(response, indent=4, sort_keys=True))"
   ]
  },
  {
   "cell_type": "code",
   "execution_count": 6,
   "metadata": {},
   "outputs": [
    {
     "data": {
      "text/plain": [
       "'https://pokeapi.co/api/v2/ability/'"
      ]
     },
     "execution_count": 6,
     "metadata": {},
     "output_type": "execute_result"
    }
   ],
   "source": [
    "ability = response['ability']\n",
    "ability"
   ]
  },
  {
   "cell_type": "code",
   "execution_count": null,
   "metadata": {},
   "outputs": [],
   "source": [
    "data = video_json[\"data\"]"
   ]
  }
 ],
 "metadata": {
  "kernelspec": {
   "display_name": "Python 3 (ipykernel)",
   "language": "python",
   "name": "python3"
  },
  "language_info": {
   "codemirror_mode": {
    "name": "ipython",
    "version": 3
   },
   "file_extension": ".py",
   "mimetype": "text/x-python",
   "name": "python",
   "nbconvert_exporter": "python",
   "pygments_lexer": "ipython3",
   "version": "3.10.12"
  },
  "varInspector": {
   "cols": {
    "lenName": 16,
    "lenType": 16,
    "lenVar": 40
   },
   "kernels_config": {
    "python": {
     "delete_cmd_postfix": "",
     "delete_cmd_prefix": "del ",
     "library": "var_list.py",
     "varRefreshCmd": "print(var_dic_list())"
    },
    "r": {
     "delete_cmd_postfix": ") ",
     "delete_cmd_prefix": "rm(",
     "library": "var_list.r",
     "varRefreshCmd": "cat(var_dic_list()) "
    }
   },
   "types_to_exclude": [
    "module",
    "function",
    "builtin_function_or_method",
    "instance",
    "_Feature"
   ],
   "window_display": false
  }
 },
 "nbformat": 4,
 "nbformat_minor": 2
}
