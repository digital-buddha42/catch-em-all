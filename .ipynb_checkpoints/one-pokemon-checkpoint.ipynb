{
 "cells": [
  {
   "cell_type": "code",
   "execution_count": 7,
   "id": "8b670735",
   "metadata": {},
   "outputs": [],
   "source": [
    "# Dependencies\n",
    "import requests\n",
    "import pandas as pd\n",
    "import json\n",
    "from pprint import pprint"
   ]
  },
  {
   "cell_type": "code",
   "execution_count": 8,
   "id": "171855c8",
   "metadata": {},
   "outputs": [],
   "source": [
    "# URL for GET requests to retrieve vehicle data\n",
    "url = \"https://pokeapi.co/api/v2/pokemon/1/\""
   ]
  },
  {
   "cell_type": "code",
   "execution_count": 3,
   "id": "704d0d93",
   "metadata": {},
   "outputs": [
    {
     "ename": "NameError",
     "evalue": "name 'response' is not defined",
     "output_type": "error",
     "traceback": [
      "\u001b[1;31m---------------------------------------------------------------------------\u001b[0m",
      "\u001b[1;31mNameError\u001b[0m                                 Traceback (most recent call last)",
      "Cell \u001b[1;32mIn[3], line 1\u001b[0m\n\u001b[1;32m----> 1\u001b[0m pokemon_url \u001b[38;5;241m=\u001b[39m \u001b[43mresponse\u001b[49m[\u001b[38;5;124m'\u001b[39m\u001b[38;5;124mpokemon\u001b[39m\u001b[38;5;124m'\u001b[39m]\n\u001b[0;32m      2\u001b[0m pokemon_url\n",
      "\u001b[1;31mNameError\u001b[0m: name 'response' is not defined"
     ]
    }
   ],
   "source": [
    "pokemon_url = response['pokemon']\n",
    "pokemon_url"
   ]
  },
  {
   "cell_type": "code",
   "execution_count": 33,
   "id": "bb406ef8",
   "metadata": {
    "scrolled": true
   },
   "outputs": [],
   "source": [
    "# Set the API base URL\n",
    "url = 'https://pokeapi.co/api/v2/pokemon/'\n",
    "url_2 = 'https://pokeapi.co/api/v2/evolution-chain/'\n",
    "# Define an empty list to fetch the weather data for each city\n",
    "pokemon_data = []\n",
    "\n",
    "\n",
    "# Loop through all the cities in our list to fetch weather data\n",
    "        \n",
    "\n",
    "    # Create endpoint URL with each city\n",
    "pokemon_url = url + 'bulbasaur'\n",
    "    \n",
    "\n",
    "pokemon_response = requests.get(pokemon_url)\n",
    "pokemon_json = pokemon_response.json()\n",
    "\n",
    "    #         # Parse out latitude, longitude, max temp, humidity, cloudiness, wind speed, country, and date\n",
    "    #        name = pokemon_json['coord']['lat']\n",
    "abilities = pokemon_json['abilities'][0]['ability']['name']\n",
    "base_experience = pokemon_json['base_experience']\n",
    "height = pokemon_json['height']\n",
    "id = pokemon_json['id']\n",
    "types = pokemon_json['types'][0]['type']['name']\n",
    "weight = pokemon_json['weight']\n",
    "hp = pokemon_json['stats'][0]['base_stat']\n",
    "attack = pokemon_json['stats'][1]['base_stat']\n",
    "defense = pokemon_json['stats'][2]['base_stat']\n",
    "special_attack = pokemon_json['stats'][3]['base_stat']\n",
    "special_defense = pokemon_json['stats'][4]['base_stat']\n",
    "speed = pokemon_json['stats'][5]['base_stat']\n",
    "sprites = pokemon_json['sprites']['other']['official-artwork']['front_default']\n",
    "\n",
    "\n",
    "        # Append the City information into city_data list\n",
    "pokemon_data.append({\"Abilities\": abilities, \n",
    "                          \"Base Experience\": base_experience, \n",
    "                          \"Height\": height, \n",
    "                          \"ID\": id,\n",
    "                          \"Types\": types,\n",
    "                          \"Weight\": weight,\n",
    "                          \"HP\": hp,\n",
    "                         \"Attack\": attack,\n",
    "                         \"Defense\": defense,\n",
    "                         \"Special Attack\" : special_attack,\n",
    "                         \"Special Defense\": special_defense,\n",
    "                         \"Speed\": speed,\n",
    "                          \"Sprites\": sprites})\n"
   ]
  },
  {
   "cell_type": "code",
   "execution_count": 34,
   "id": "c30f1136",
   "metadata": {},
   "outputs": [],
   "source": [
    "# Convert the cities weather data into a Pandas DataFrame\n",
    "poke_data_df = pd.DataFrame(pokemon_data)"
   ]
  },
  {
   "cell_type": "code",
   "execution_count": 35,
   "id": "f058af2b",
   "metadata": {
    "scrolled": true
   },
   "outputs": [
    {
     "data": {
      "text/html": [
       "<div>\n",
       "<style scoped>\n",
       "    .dataframe tbody tr th:only-of-type {\n",
       "        vertical-align: middle;\n",
       "    }\n",
       "\n",
       "    .dataframe tbody tr th {\n",
       "        vertical-align: top;\n",
       "    }\n",
       "\n",
       "    .dataframe thead th {\n",
       "        text-align: right;\n",
       "    }\n",
       "</style>\n",
       "<table border=\"1\" class=\"dataframe\">\n",
       "  <thead>\n",
       "    <tr style=\"text-align: right;\">\n",
       "      <th></th>\n",
       "      <th>Abilities</th>\n",
       "      <th>Base Experience</th>\n",
       "      <th>Height</th>\n",
       "      <th>ID</th>\n",
       "      <th>Types</th>\n",
       "      <th>Weight</th>\n",
       "      <th>HP</th>\n",
       "      <th>Attack</th>\n",
       "      <th>Defense</th>\n",
       "      <th>Special Attack</th>\n",
       "      <th>Special Defense</th>\n",
       "      <th>Speed</th>\n",
       "      <th>Sprites</th>\n",
       "    </tr>\n",
       "  </thead>\n",
       "  <tbody>\n",
       "    <tr>\n",
       "      <th>0</th>\n",
       "      <td>overgrow</td>\n",
       "      <td>64</td>\n",
       "      <td>7</td>\n",
       "      <td>1</td>\n",
       "      <td>grass</td>\n",
       "      <td>69</td>\n",
       "      <td>45</td>\n",
       "      <td>49</td>\n",
       "      <td>49</td>\n",
       "      <td>65</td>\n",
       "      <td>65</td>\n",
       "      <td>45</td>\n",
       "      <td>https://raw.githubusercontent.com/PokeAPI/spri...</td>\n",
       "    </tr>\n",
       "  </tbody>\n",
       "</table>\n",
       "</div>"
      ],
      "text/plain": [
       "  Abilities  Base Experience  Height  ID  Types  Weight  HP  Attack  Defense  \\\n",
       "0  overgrow               64       7   1  grass      69  45      49       49   \n",
       "\n",
       "   Special Attack  Special Defense  Speed  \\\n",
       "0              65               65     45   \n",
       "\n",
       "                                             Sprites  \n",
       "0  https://raw.githubusercontent.com/PokeAPI/spri...  "
      ]
     },
     "execution_count": 35,
     "metadata": {},
     "output_type": "execute_result"
    }
   ],
   "source": [
    "poke_data_df"
   ]
  },
  {
   "cell_type": "code",
   "execution_count": 36,
   "id": "7acb8ee5",
   "metadata": {},
   "outputs": [
    {
     "name": "stdout",
     "output_type": "stream",
     "text": [
      "  Abilities  Base Experience  Height  ID  Types  Weight  HP  Attack  Defense  \\\n",
      "0  overgrow               64       7   1  grass      69  45      49       49   \n",
      "\n",
      "   Special Attack  Special Defense  Speed  \\\n",
      "0              65               65     45   \n",
      "\n",
      "                                             Sprites  \n",
      "0  https://raw.githubusercontent.com/PokeAPI/spri...  \n",
      "Abilities          1\n",
      "Base Experience    1\n",
      "Height             1\n",
      "ID                 1\n",
      "Types              1\n",
      "Weight             1\n",
      "HP                 1\n",
      "Attack             1\n",
      "Defense            1\n",
      "Special Attack     1\n",
      "Special Defense    1\n",
      "Speed              1\n",
      "Sprites            1\n",
      "dtype: int64\n"
     ]
    }
   ],
   "source": [
    "filter_poke_df = poke_data_df.dropna()\n",
    "print(filter_poke_df)\n",
    "print(filter_poke_df.count())"
   ]
  },
  {
   "cell_type": "code",
   "execution_count": 37,
   "id": "e9ed8c52",
   "metadata": {},
   "outputs": [
    {
     "name": "stdout",
     "output_type": "stream",
     "text": [
      "{'baby_trigger_item': None,\n",
      " 'chain': {'evolution_details': [],\n",
      "           'evolves_to': [{'evolution_details': [{'gender': None,\n",
      "                                                  'held_item': None,\n",
      "                                                  'item': None,\n",
      "                                                  'known_move': None,\n",
      "                                                  'known_move_type': None,\n",
      "                                                  'location': None,\n",
      "                                                  'min_affection': None,\n",
      "                                                  'min_beauty': None,\n",
      "                                                  'min_happiness': None,\n",
      "                                                  'min_level': 16,\n",
      "                                                  'needs_overworld_rain': False,\n",
      "                                                  'party_species': None,\n",
      "                                                  'party_type': None,\n",
      "                                                  'relative_physical_stats': None,\n",
      "                                                  'time_of_day': '',\n",
      "                                                  'trade_species': None,\n",
      "                                                  'trigger': {'name': 'level-up',\n",
      "                                                              'url': 'https://pokeapi.co/api/v2/evolution-trigger/1/'},\n",
      "                                                  'turn_upside_down': False}],\n",
      "                           'evolves_to': [{'evolution_details': [{'gender': None,\n",
      "                                                                  'held_item': None,\n",
      "                                                                  'item': None,\n",
      "                                                                  'known_move': None,\n",
      "                                                                  'known_move_type': None,\n",
      "                                                                  'location': None,\n",
      "                                                                  'min_affection': None,\n",
      "                                                                  'min_beauty': None,\n",
      "                                                                  'min_happiness': None,\n",
      "                                                                  'min_level': 32,\n",
      "                                                                  'needs_overworld_rain': False,\n",
      "                                                                  'party_species': None,\n",
      "                                                                  'party_type': None,\n",
      "                                                                  'relative_physical_stats': None,\n",
      "                                                                  'time_of_day': '',\n",
      "                                                                  'trade_species': None,\n",
      "                                                                  'trigger': {'name': 'level-up',\n",
      "                                                                              'url': 'https://pokeapi.co/api/v2/evolution-trigger/1/'},\n",
      "                                                                  'turn_upside_down': False}],\n",
      "                                           'evolves_to': [],\n",
      "                                           'is_baby': False,\n",
      "                                           'species': {'name': 'venusaur',\n",
      "                                                       'url': 'https://pokeapi.co/api/v2/pokemon-species/3/'}}],\n",
      "                           'is_baby': False,\n",
      "                           'species': {'name': 'ivysaur',\n",
      "                                       'url': 'https://pokeapi.co/api/v2/pokemon-species/2/'}}],\n",
      "           'is_baby': False,\n",
      "           'species': {'name': 'bulbasaur',\n",
      "                       'url': 'https://pokeapi.co/api/v2/pokemon-species/1/'}},\n",
      " 'id': 1}\n"
     ]
    }
   ],
   "source": [
    "for i in range(len(filter_poke_df)):\n",
    "    id_number = str(i+1)\n",
    "    evolution_url = url_2 + id_number\n",
    "    \n",
    "\n",
    "    evolution_response = requests.get(evolution_url)\n",
    "    evolution_json = evolution_response.json()\n",
    "    pprint(evolution_json)\n",
    "    "
   ]
  },
  {
   "cell_type": "code",
   "execution_count": 39,
   "id": "832782d2",
   "metadata": {},
   "outputs": [],
   "source": [
    "evolution_1 = evolution_json['chain']['species']['name']\n",
    "evolution_2 = evolution_json['chain']['evolves_to'][0]['species']['name']\n",
    "evolution_3 = evolution_json['chain']['evolves_to'][0]['evolves_to'][0]['species']['name']\n",
    "\n"
   ]
  },
  {
   "cell_type": "code",
   "execution_count": 40,
   "id": "9799963e",
   "metadata": {},
   "outputs": [
    {
     "data": {
      "text/plain": [
       "[{'1st Evolution': 'bulbasaur',\n",
       "  '2nd Evolution': 'ivysaur',\n",
       "  '3rd Evolution': 'venusaur'}]"
      ]
     },
     "execution_count": 40,
     "metadata": {},
     "output_type": "execute_result"
    }
   ],
   "source": [
    "evolution_data = []\n",
    "evolution_data.append({\"1st Evolution\": evolution_1,\n",
    "\"2nd Evolution\": evolution_2,\n",
    "\"3rd Evolution\": evolution_3})\n",
    "\n",
    "evolution_data"
   ]
  }
 ],
 "metadata": {
  "kernelspec": {
   "display_name": "Python 3 (ipykernel)",
   "language": "python",
   "name": "python3"
  },
  "language_info": {
   "codemirror_mode": {
    "name": "ipython",
    "version": 3
   },
   "file_extension": ".py",
   "mimetype": "text/x-python",
   "name": "python",
   "nbconvert_exporter": "python",
   "pygments_lexer": "ipython3",
   "version": "3.10.11"
  }
 },
 "nbformat": 4,
 "nbformat_minor": 5
}
