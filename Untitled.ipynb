{
 "cells": [
  {
   "cell_type": "code",
   "execution_count": 8,
   "id": "035a5d5f",
   "metadata": {},
   "outputs": [],
   "source": [
    "# Dependencies\n",
    "import requests\n",
    "import pandas as pd\n",
    "import json\n",
    "from pprint import pprint"
   ]
  },
  {
   "cell_type": "code",
   "execution_count": 3,
   "id": "ca62dac9",
   "metadata": {},
   "outputs": [],
   "source": [
    "# URL for GET requests to retrieve vehicle data\n",
    "url = \"https://pokeapi.co/api/v2/pokemon/1/\""
   ]
  },
  {
   "cell_type": "code",
   "execution_count": 4,
   "id": "70c50243",
   "metadata": {},
   "outputs": [
    {
     "ename": "NameError",
     "evalue": "name 'response' is not defined",
     "output_type": "error",
     "traceback": [
      "\u001b[1;31m---------------------------------------------------------------------------\u001b[0m",
      "\u001b[1;31mNameError\u001b[0m                                 Traceback (most recent call last)",
      "Cell \u001b[1;32mIn[4], line 1\u001b[0m\n\u001b[1;32m----> 1\u001b[0m pokemon_url \u001b[38;5;241m=\u001b[39m \u001b[43mresponse\u001b[49m[\u001b[38;5;124m'\u001b[39m\u001b[38;5;124mpokemon\u001b[39m\u001b[38;5;124m'\u001b[39m]\n\u001b[0;32m      2\u001b[0m pokemon_url\n",
      "\u001b[1;31mNameError\u001b[0m: name 'response' is not defined"
     ]
    }
   ],
   "source": [
    "pokemon_url = response['pokemon']\n",
    "pokemon_url"
   ]
  },
  {
   "cell_type": "code",
   "execution_count": 19,
   "id": "97598fcc",
   "metadata": {},
   "outputs": [
    {
     "ename": "JSONDecodeError",
     "evalue": "Expecting value: line 1 column 1 (char 0)",
     "output_type": "error",
     "traceback": [
      "\u001b[1;31m---------------------------------------------------------------------------\u001b[0m",
      "\u001b[1;31mJSONDecodeError\u001b[0m                           Traceback (most recent call last)",
      "File \u001b[1;32m~\\anaconda3\\envs\\dev\\lib\\site-packages\\requests\\models.py:971\u001b[0m, in \u001b[0;36mResponse.json\u001b[1;34m(self, **kwargs)\u001b[0m\n\u001b[0;32m    970\u001b[0m \u001b[38;5;28;01mtry\u001b[39;00m:\n\u001b[1;32m--> 971\u001b[0m     \u001b[38;5;28;01mreturn\u001b[39;00m complexjson\u001b[38;5;241m.\u001b[39mloads(\u001b[38;5;28mself\u001b[39m\u001b[38;5;241m.\u001b[39mtext, \u001b[38;5;241m*\u001b[39m\u001b[38;5;241m*\u001b[39mkwargs)\n\u001b[0;32m    972\u001b[0m \u001b[38;5;28;01mexcept\u001b[39;00m JSONDecodeError \u001b[38;5;28;01mas\u001b[39;00m e:\n\u001b[0;32m    973\u001b[0m     \u001b[38;5;66;03m# Catch JSON-related errors and raise as requests.JSONDecodeError\u001b[39;00m\n\u001b[0;32m    974\u001b[0m     \u001b[38;5;66;03m# This aliases json.JSONDecodeError and simplejson.JSONDecodeError\u001b[39;00m\n",
      "File \u001b[1;32m~\\anaconda3\\envs\\dev\\lib\\json\\__init__.py:346\u001b[0m, in \u001b[0;36mloads\u001b[1;34m(s, cls, object_hook, parse_float, parse_int, parse_constant, object_pairs_hook, **kw)\u001b[0m\n\u001b[0;32m    343\u001b[0m \u001b[38;5;28;01mif\u001b[39;00m (\u001b[38;5;28mcls\u001b[39m \u001b[38;5;129;01mis\u001b[39;00m \u001b[38;5;28;01mNone\u001b[39;00m \u001b[38;5;129;01mand\u001b[39;00m object_hook \u001b[38;5;129;01mis\u001b[39;00m \u001b[38;5;28;01mNone\u001b[39;00m \u001b[38;5;129;01mand\u001b[39;00m\n\u001b[0;32m    344\u001b[0m         parse_int \u001b[38;5;129;01mis\u001b[39;00m \u001b[38;5;28;01mNone\u001b[39;00m \u001b[38;5;129;01mand\u001b[39;00m parse_float \u001b[38;5;129;01mis\u001b[39;00m \u001b[38;5;28;01mNone\u001b[39;00m \u001b[38;5;129;01mand\u001b[39;00m\n\u001b[0;32m    345\u001b[0m         parse_constant \u001b[38;5;129;01mis\u001b[39;00m \u001b[38;5;28;01mNone\u001b[39;00m \u001b[38;5;129;01mand\u001b[39;00m object_pairs_hook \u001b[38;5;129;01mis\u001b[39;00m \u001b[38;5;28;01mNone\u001b[39;00m \u001b[38;5;129;01mand\u001b[39;00m \u001b[38;5;129;01mnot\u001b[39;00m kw):\n\u001b[1;32m--> 346\u001b[0m     \u001b[38;5;28;01mreturn\u001b[39;00m \u001b[43m_default_decoder\u001b[49m\u001b[38;5;241;43m.\u001b[39;49m\u001b[43mdecode\u001b[49m\u001b[43m(\u001b[49m\u001b[43ms\u001b[49m\u001b[43m)\u001b[49m\n\u001b[0;32m    347\u001b[0m \u001b[38;5;28;01mif\u001b[39;00m \u001b[38;5;28mcls\u001b[39m \u001b[38;5;129;01mis\u001b[39;00m \u001b[38;5;28;01mNone\u001b[39;00m:\n",
      "File \u001b[1;32m~\\anaconda3\\envs\\dev\\lib\\json\\decoder.py:337\u001b[0m, in \u001b[0;36mJSONDecoder.decode\u001b[1;34m(self, s, _w)\u001b[0m\n\u001b[0;32m    333\u001b[0m \u001b[38;5;250m\u001b[39m\u001b[38;5;124;03m\"\"\"Return the Python representation of ``s`` (a ``str`` instance\u001b[39;00m\n\u001b[0;32m    334\u001b[0m \u001b[38;5;124;03mcontaining a JSON document).\u001b[39;00m\n\u001b[0;32m    335\u001b[0m \n\u001b[0;32m    336\u001b[0m \u001b[38;5;124;03m\"\"\"\u001b[39;00m\n\u001b[1;32m--> 337\u001b[0m obj, end \u001b[38;5;241m=\u001b[39m \u001b[38;5;28;43mself\u001b[39;49m\u001b[38;5;241;43m.\u001b[39;49m\u001b[43mraw_decode\u001b[49m\u001b[43m(\u001b[49m\u001b[43ms\u001b[49m\u001b[43m,\u001b[49m\u001b[43m \u001b[49m\u001b[43midx\u001b[49m\u001b[38;5;241;43m=\u001b[39;49m\u001b[43m_w\u001b[49m\u001b[43m(\u001b[49m\u001b[43ms\u001b[49m\u001b[43m,\u001b[49m\u001b[43m \u001b[49m\u001b[38;5;241;43m0\u001b[39;49m\u001b[43m)\u001b[49m\u001b[38;5;241;43m.\u001b[39;49m\u001b[43mend\u001b[49m\u001b[43m(\u001b[49m\u001b[43m)\u001b[49m\u001b[43m)\u001b[49m\n\u001b[0;32m    338\u001b[0m end \u001b[38;5;241m=\u001b[39m _w(s, end)\u001b[38;5;241m.\u001b[39mend()\n",
      "File \u001b[1;32m~\\anaconda3\\envs\\dev\\lib\\json\\decoder.py:355\u001b[0m, in \u001b[0;36mJSONDecoder.raw_decode\u001b[1;34m(self, s, idx)\u001b[0m\n\u001b[0;32m    354\u001b[0m \u001b[38;5;28;01mexcept\u001b[39;00m \u001b[38;5;167;01mStopIteration\u001b[39;00m \u001b[38;5;28;01mas\u001b[39;00m err:\n\u001b[1;32m--> 355\u001b[0m     \u001b[38;5;28;01mraise\u001b[39;00m JSONDecodeError(\u001b[38;5;124m\"\u001b[39m\u001b[38;5;124mExpecting value\u001b[39m\u001b[38;5;124m\"\u001b[39m, s, err\u001b[38;5;241m.\u001b[39mvalue) \u001b[38;5;28;01mfrom\u001b[39;00m \u001b[38;5;28;01mNone\u001b[39;00m\n\u001b[0;32m    356\u001b[0m \u001b[38;5;28;01mreturn\u001b[39;00m obj, end\n",
      "\u001b[1;31mJSONDecodeError\u001b[0m: Expecting value: line 1 column 1 (char 0)",
      "\nDuring handling of the above exception, another exception occurred:\n",
      "\u001b[1;31mJSONDecodeError\u001b[0m                           Traceback (most recent call last)",
      "Cell \u001b[1;32mIn[19], line 32\u001b[0m\n\u001b[0;32m     22\u001b[0m \u001b[38;5;66;03m#     # Log the url, record, and set numbers\u001b[39;00m\n\u001b[0;32m     23\u001b[0m \u001b[38;5;66;03m#     print(\"Processing Record %s of Set %s | %s\" % (record_count, set_count, city))\u001b[39;00m\n\u001b[0;32m     24\u001b[0m \n\u001b[1;32m   (...)\u001b[0m\n\u001b[0;32m     29\u001b[0m \u001b[38;5;66;03m#     try:\u001b[39;00m\n\u001b[0;32m     30\u001b[0m \u001b[38;5;66;03m#         # Parse the JSON and retrieve data\u001b[39;00m\n\u001b[0;32m     31\u001b[0m     pokemon_response \u001b[38;5;241m=\u001b[39m requests\u001b[38;5;241m.\u001b[39mget(pokemon_url)\n\u001b[1;32m---> 32\u001b[0m     pokemon_json \u001b[38;5;241m=\u001b[39m \u001b[43mpokemon_response\u001b[49m\u001b[38;5;241;43m.\u001b[39;49m\u001b[43mjson\u001b[49m\u001b[43m(\u001b[49m\u001b[43m)\u001b[49m\n\u001b[0;32m     34\u001b[0m     \u001b[38;5;66;03m#         # Parse out latitude, longitude, max temp, humidity, cloudiness, wind speed, country, and date\u001b[39;00m\n\u001b[0;32m     35\u001b[0m     \u001b[38;5;66;03m#        name = pokemon_json['coord']['lat']\u001b[39;00m\n\u001b[0;32m     36\u001b[0m     abilities \u001b[38;5;241m=\u001b[39m pokemon_json[\u001b[38;5;124m'\u001b[39m\u001b[38;5;124mabilities\u001b[39m\u001b[38;5;124m'\u001b[39m][\u001b[38;5;241m0\u001b[39m][\u001b[38;5;124m'\u001b[39m\u001b[38;5;124mability\u001b[39m\u001b[38;5;124m'\u001b[39m][\u001b[38;5;124m'\u001b[39m\u001b[38;5;124mname\u001b[39m\u001b[38;5;124m'\u001b[39m]\n",
      "File \u001b[1;32m~\\anaconda3\\envs\\dev\\lib\\site-packages\\requests\\models.py:975\u001b[0m, in \u001b[0;36mResponse.json\u001b[1;34m(self, **kwargs)\u001b[0m\n\u001b[0;32m    971\u001b[0m     \u001b[38;5;28;01mreturn\u001b[39;00m complexjson\u001b[38;5;241m.\u001b[39mloads(\u001b[38;5;28mself\u001b[39m\u001b[38;5;241m.\u001b[39mtext, \u001b[38;5;241m*\u001b[39m\u001b[38;5;241m*\u001b[39mkwargs)\n\u001b[0;32m    972\u001b[0m \u001b[38;5;28;01mexcept\u001b[39;00m JSONDecodeError \u001b[38;5;28;01mas\u001b[39;00m e:\n\u001b[0;32m    973\u001b[0m     \u001b[38;5;66;03m# Catch JSON-related errors and raise as requests.JSONDecodeError\u001b[39;00m\n\u001b[0;32m    974\u001b[0m     \u001b[38;5;66;03m# This aliases json.JSONDecodeError and simplejson.JSONDecodeError\u001b[39;00m\n\u001b[1;32m--> 975\u001b[0m     \u001b[38;5;28;01mraise\u001b[39;00m RequestsJSONDecodeError(e\u001b[38;5;241m.\u001b[39mmsg, e\u001b[38;5;241m.\u001b[39mdoc, e\u001b[38;5;241m.\u001b[39mpos)\n",
      "\u001b[1;31mJSONDecodeError\u001b[0m: Expecting value: line 1 column 1 (char 0)"
     ]
    }
   ],
   "source": [
    "# Set the API base URL\n",
    "url = 'https://pokeapi.co/api/v2/pokemon/'\n",
    "\n",
    "# Define an empty list to fetch the weather data for each city\n",
    "pokemon_data = []\n",
    "\n",
    "# # Print to logger\n",
    "# print(\"Beginning Data Retrieval     \")\n",
    "# print(\"-----------------------------\")\n",
    "\n",
    "# # Create counters\n",
    "# record_count = 1\n",
    "# set_count = 1\n",
    "\n",
    "# Loop through all the cities in our list to fetch weather data\n",
    "for i in range(10):\n",
    "        \n",
    "\n",
    "    # Create endpoint URL with each city\n",
    "    pokemon_url = url + str(i)\n",
    "    \n",
    "#     # Log the url, record, and set numbers\n",
    "#     print(\"Processing Record %s of Set %s | %s\" % (record_count, set_count, city))\n",
    "\n",
    "#     # Add 1 to the record count\n",
    "#     record_count += 1\n",
    "\n",
    "#     # Run an API request for each of the cities\n",
    "#     try:\n",
    "#         # Parse the JSON and retrieve data\n",
    "    pokemon_response = requests.get(pokemon_url)\n",
    "    pokemon_json = pokemon_response.json()\n",
    "\n",
    "    #         # Parse out latitude, longitude, max temp, humidity, cloudiness, wind speed, country, and date\n",
    "    #        name = pokemon_json['coord']['lat']\n",
    "    abilities = pokemon_json['abilities'][0]['ability']['name']\n",
    "    base_experience = pokemon_json['base_experience']\n",
    "    height = pokemon_json['height']\n",
    "    id = pokemon_json['id']\n",
    "    types = pokemon_json['types'][0]['type']['name']\n",
    "    weight = pokemon_json['weight']\n",
    "    hp = pokemon_json['stats'][0]['base_stat']\n",
    "    attack = pokemon_json['stats'][1]['base_stat']\n",
    "    defense = pokemon_json['stats'][2]['base_stat']\n",
    "    special_attack = pokemon_json['stats'][3]['base_stat']\n",
    "    special_defense = pokemon_json['stats'][4]['base_stat']\n",
    "    speed = pokemon_json['stats'][5]['base_stat']\n",
    "    sprites = pokemon_json['sprites']['other']['official-artwork']['front_default']\n",
    "\n",
    "\n",
    "        # Append the City information into city_data list\n",
    "    pokemon_data.append({\"Abilities\": abilities, \n",
    "                              \"Base Experience\": base_experience, \n",
    "                              \"Height\": height, \n",
    "                              \"ID\": id,\n",
    "                              \"Types\": types,\n",
    "                              \"Weight\": weight,\n",
    "                              \"HP\": hp,\n",
    "                             \"Attack\": attack,\n",
    "                             \"Defense\": defense,\n",
    "                             \"Special Attack\" : special_attack,\n",
    "                             \"Special Defense\": special_defense,\n",
    "                             \"Speed\": speed,\n",
    "                              \"Sprites\": sprites})\n"
   ]
  },
  {
   "cell_type": "code",
   "execution_count": 13,
   "id": "c8c10ee3",
   "metadata": {},
   "outputs": [
    {
     "data": {
      "text/plain": [
       "Abilities          1\n",
       "Base Experience    1\n",
       "Height             1\n",
       "ID                 1\n",
       "Types              1\n",
       "Weight             1\n",
       "HP                 1\n",
       "Attack             1\n",
       "Defense            1\n",
       "Special Attack     1\n",
       "Special Defense    1\n",
       "Speed              1\n",
       "Sprites            1\n",
       "dtype: int64"
      ]
     },
     "execution_count": 13,
     "metadata": {},
     "output_type": "execute_result"
    }
   ],
   "source": [
    "# Convert the cities weather data into a Pandas DataFrame\n",
    "poke_data_df = pd.DataFrame(pokemon_data)"
   ]
  },
  {
   "cell_type": "code",
   "execution_count": 14,
   "id": "5efd87f0",
   "metadata": {},
   "outputs": [
    {
     "data": {
      "text/html": [
       "<div>\n",
       "<style scoped>\n",
       "    .dataframe tbody tr th:only-of-type {\n",
       "        vertical-align: middle;\n",
       "    }\n",
       "\n",
       "    .dataframe tbody tr th {\n",
       "        vertical-align: top;\n",
       "    }\n",
       "\n",
       "    .dataframe thead th {\n",
       "        text-align: right;\n",
       "    }\n",
       "</style>\n",
       "<table border=\"1\" class=\"dataframe\">\n",
       "  <thead>\n",
       "    <tr style=\"text-align: right;\">\n",
       "      <th></th>\n",
       "      <th>Abilities</th>\n",
       "      <th>Base Experience</th>\n",
       "      <th>Height</th>\n",
       "      <th>ID</th>\n",
       "      <th>Types</th>\n",
       "      <th>Weight</th>\n",
       "      <th>HP</th>\n",
       "      <th>Attack</th>\n",
       "      <th>Defense</th>\n",
       "      <th>Special Attack</th>\n",
       "      <th>Special Defense</th>\n",
       "      <th>Speed</th>\n",
       "      <th>Sprites</th>\n",
       "    </tr>\n",
       "  </thead>\n",
       "  <tbody>\n",
       "    <tr>\n",
       "      <th>0</th>\n",
       "      <td>overgrow</td>\n",
       "      <td>64</td>\n",
       "      <td>7</td>\n",
       "      <td>1</td>\n",
       "      <td>grass</td>\n",
       "      <td>69</td>\n",
       "      <td>45</td>\n",
       "      <td>49</td>\n",
       "      <td>49</td>\n",
       "      <td>65</td>\n",
       "      <td>65</td>\n",
       "      <td>45</td>\n",
       "      <td>https://raw.githubusercontent.com/PokeAPI/spri...</td>\n",
       "    </tr>\n",
       "  </tbody>\n",
       "</table>\n",
       "</div>"
      ],
      "text/plain": [
       "  Abilities  Base Experience  Height  ID  Types  Weight  HP  Attack  Defense  \\\n",
       "0  overgrow               64       7   1  grass      69  45      49       49   \n",
       "\n",
       "   Special Attack  Special Defense  Speed  \\\n",
       "0              65               65     45   \n",
       "\n",
       "                                             Sprites  \n",
       "0  https://raw.githubusercontent.com/PokeAPI/spri...  "
      ]
     },
     "execution_count": 14,
     "metadata": {},
     "output_type": "execute_result"
    }
   ],
   "source": [
    "poke_data_df"
   ]
  }
 ],
 "metadata": {
  "kernelspec": {
   "display_name": "Python 3 (ipykernel)",
   "language": "python",
   "name": "python3"
  },
  "language_info": {
   "codemirror_mode": {
    "name": "ipython",
    "version": 3
   },
   "file_extension": ".py",
   "mimetype": "text/x-python",
   "name": "python",
   "nbconvert_exporter": "python",
   "pygments_lexer": "ipython3",
   "version": "3.10.12"
  }
 },
 "nbformat": 4,
 "nbformat_minor": 5
}
